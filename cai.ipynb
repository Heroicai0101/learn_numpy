{
 "cells": [
  {
   "cell_type": "code",
   "execution_count": 2,
   "metadata": {
    "collapsed": false
   },
   "outputs": [
    {
     "name": "stdout",
     "output_type": "stream",
     "text": [
      "hello world\n"
     ]
    }
   ],
   "source": [
    "print 'hello world'"
   ]
  },
  {
   "cell_type": "code",
   "execution_count": 3,
   "metadata": {
    "collapsed": false
   },
   "outputs": [
    {
     "name": "stdout",
     "output_type": "stream",
     "text": [
      " 驱动器 C 中的卷没有标签。\n",
      " 卷的序列号是 1494-3F39\n",
      "\n",
      " C:\\Users\\heroicai\\cgx_github\\learn_numpy 的目录\n",
      "\n",
      "2015/09/16  22:25    <DIR>          .\n",
      "2015/09/16  22:25    <DIR>          ..\n",
      "2014/12/19  12:57               395 .gitattributes\n",
      "2015/09/16  21:56               617 .gitignore\n",
      "2015/09/16  21:46    <DIR>          .ipynb_checkpoints\n",
      "2015/09/16  22:25             2,052 cai.ipynb\n",
      "               3 个文件          3,064 字节\n",
      "               3 个目录 26,742,358,016 可用字节\n"
     ]
    }
   ],
   "source": [
    "ls"
   ]
  },
  {
   "cell_type": "code",
   "execution_count": 5,
   "metadata": {
    "collapsed": true
   },
   "outputs": [],
   "source": [
    "!git add --all"
   ]
  },
  {
   "cell_type": "code",
   "execution_count": 6,
   "metadata": {
    "collapsed": false
   },
   "outputs": [
    {
     "name": "stderr",
     "output_type": "stream",
     "text": [
      "error: pathspec 'cai.ipynb'' did not match any file(s) known to git.\n"
     ]
    }
   ],
   "source": [
    "!git commit -m 'add cai.ipynb'"
   ]
  }
 ],
 "metadata": {
  "kernelspec": {
   "display_name": "Python 2",
   "language": "python",
   "name": "python2"
  },
  "language_info": {
   "codemirror_mode": {
    "name": "ipython",
    "version": 2
   },
   "file_extension": ".py",
   "mimetype": "text/x-python",
   "name": "python",
   "nbconvert_exporter": "python",
   "pygments_lexer": "ipython2",
   "version": "2.7.10"
  }
 },
 "nbformat": 4,
 "nbformat_minor": 0
}
